{
  "cells": [
    {
      "cell_type": "markdown",
      "id": "0911f40f",
      "metadata": {
        "id": "0911f40f"
      },
      "source": [
        "# Exploratory Data Analysis of Meteorite landings on Earth recorded by NASA"
      ]
    },
    {
      "cell_type": "markdown",
      "id": "716d62e7",
      "metadata": {
        "id": "716d62e7"
      },
      "source": [
        "Project 1 dataset link: https://catalog.data.gov/dataset/meteorite-landings"
      ]
    },
    {
      "cell_type": "markdown",
      "id": "7c475763",
      "metadata": {
        "id": "7c475763"
      },
      "source": [
        "Lets import the libraries needed for data loading, data analysis and visualization"
      ]
    },
    {
      "cell_type": "code",
      "execution_count": 2,
      "id": "b00067c9",
      "metadata": {
        "colab": {
          "base_uri": "https://localhost:8080/"
        },
        "id": "b00067c9",
        "outputId": "7d7a76e8-ccfc-4e62-a33b-25f8a8eca486"
      },
      "outputs": [
        {
          "output_type": "stream",
          "name": "stdout",
          "text": [
            "Collecting cartopy\n",
            "  Downloading Cartopy-0.23.0-cp310-cp310-manylinux_2_17_x86_64.manylinux2014_x86_64.whl (11.6 MB)\n",
            "\u001b[2K     \u001b[90m━━━━━━━━━━━━━━━━━━━━━━━━━━━━━━━━━━━━━━━━\u001b[0m \u001b[32m11.6/11.6 MB\u001b[0m \u001b[31m30.9 MB/s\u001b[0m eta \u001b[36m0:00:00\u001b[0m\n",
            "\u001b[?25hRequirement already satisfied: numpy>=1.21 in /usr/local/lib/python3.10/dist-packages (from cartopy) (1.25.2)\n",
            "Requirement already satisfied: matplotlib>=3.5 in /usr/local/lib/python3.10/dist-packages (from cartopy) (3.7.1)\n",
            "Requirement already satisfied: shapely>=1.7 in /usr/local/lib/python3.10/dist-packages (from cartopy) (2.0.3)\n",
            "Requirement already satisfied: packaging>=20 in /usr/local/lib/python3.10/dist-packages (from cartopy) (24.0)\n",
            "Requirement already satisfied: pyshp>=2.3 in /usr/local/lib/python3.10/dist-packages (from cartopy) (2.3.1)\n",
            "Requirement already satisfied: pyproj>=3.3.1 in /usr/local/lib/python3.10/dist-packages (from cartopy) (3.6.1)\n",
            "Requirement already satisfied: contourpy>=1.0.1 in /usr/local/lib/python3.10/dist-packages (from matplotlib>=3.5->cartopy) (1.2.1)\n",
            "Requirement already satisfied: cycler>=0.10 in /usr/local/lib/python3.10/dist-packages (from matplotlib>=3.5->cartopy) (0.12.1)\n",
            "Requirement already satisfied: fonttools>=4.22.0 in /usr/local/lib/python3.10/dist-packages (from matplotlib>=3.5->cartopy) (4.51.0)\n",
            "Requirement already satisfied: kiwisolver>=1.0.1 in /usr/local/lib/python3.10/dist-packages (from matplotlib>=3.5->cartopy) (1.4.5)\n",
            "Requirement already satisfied: pillow>=6.2.0 in /usr/local/lib/python3.10/dist-packages (from matplotlib>=3.5->cartopy) (9.4.0)\n",
            "Requirement already satisfied: pyparsing>=2.3.1 in /usr/local/lib/python3.10/dist-packages (from matplotlib>=3.5->cartopy) (3.1.2)\n",
            "Requirement already satisfied: python-dateutil>=2.7 in /usr/local/lib/python3.10/dist-packages (from matplotlib>=3.5->cartopy) (2.8.2)\n",
            "Requirement already satisfied: certifi in /usr/local/lib/python3.10/dist-packages (from pyproj>=3.3.1->cartopy) (2024.2.2)\n",
            "Requirement already satisfied: six>=1.5 in /usr/local/lib/python3.10/dist-packages (from python-dateutil>=2.7->matplotlib>=3.5->cartopy) (1.16.0)\n",
            "Installing collected packages: cartopy\n",
            "Successfully installed cartopy-0.23.0\n"
          ]
        }
      ],
      "source": [
        "import pandas as pd\n",
        "import numpy as np\n",
        "import matplotlib.pyplot as plt\n",
        "import seaborn as sns\n",
        "import geopandas as gpd\n",
        "!pip install cartopy\n",
        "import cartopy.crs as ccrs\n",
        "import cartopy.feature as cfeature\n",
        "import folium\n",
        "from geopy.geocoders import Nominatim"
      ]
    },
    {
      "cell_type": "markdown",
      "id": "460d69e7",
      "metadata": {
        "id": "460d69e7"
      },
      "source": [
        "Checking the versions of modules imported"
      ]
    },
    {
      "cell_type": "code",
      "execution_count": 4,
      "id": "f62b6dde",
      "metadata": {
        "colab": {
          "base_uri": "https://localhost:8080/"
        },
        "id": "f62b6dde",
        "outputId": "ea040d26-4786-43d0-800d-9cc68b16fd6d"
      },
      "outputs": [
        {
          "output_type": "stream",
          "name": "stdout",
          "text": [
            "2.0.3\n",
            "1.25.2\n"
          ]
        }
      ],
      "source": [
        "print(pd.__version__)\n",
        "print(np.__version__)"
      ]
    },
    {
      "cell_type": "code",
      "execution_count": null,
      "id": "59f7b503",
      "metadata": {
        "id": "59f7b503"
      },
      "outputs": [],
      "source": [
        "df=pd.read_csv('Meteorite_Landings.csv')\n",
        "#print(df.head())\n",
        "df"
      ]
    },
    {
      "cell_type": "markdown",
      "id": "0477867f",
      "metadata": {
        "id": "0477867f"
      },
      "source": [
        "Few of the headers in the given dataset are not that convicing the meaning of the values, lets try to recreate new headers as per our understanding"
      ]
    },
    {
      "cell_type": "code",
      "execution_count": null,
      "id": "67af3678",
      "metadata": {
        "id": "67af3678"
      },
      "outputs": [],
      "source": [
        "# Read the CSV file without considering the first row as headers\n",
        "df1 = pd.read_csv('Meteorite_Landings.csv', skiprows=1)"
      ]
    },
    {
      "cell_type": "code",
      "execution_count": null,
      "id": "b2232af7",
      "metadata": {
        "id": "b2232af7"
      },
      "outputs": [],
      "source": [
        "# Define new headers\n",
        "headers_list = ['Meteor_name', 'Meteor_ID', 'Meteor_Type',\n",
        "                'Meteor_class', 'Meteor_mass','Meteor_fall/found',\n",
        "                'Meteor_year','latitude', 'longitude','Meteor_geolocation'\n",
        "               ]  # Replace with your new headers\n",
        "\n",
        "# Add new headers to the DataFrame\n",
        "df1.columns = headers_list\n",
        "\n",
        "# Write the DataFrame back to the CSV file without headers\n",
        "df1.to_csv('Meteorite_Landings.csv', index=False, header=False)"
      ]
    },
    {
      "cell_type": "code",
      "execution_count": null,
      "id": "1561acf7",
      "metadata": {
        "id": "1561acf7"
      },
      "outputs": [],
      "source": [
        "df1.dtypes #display the datatypes of every column in the dataset"
      ]
    },
    {
      "cell_type": "code",
      "execution_count": null,
      "id": "556eb632",
      "metadata": {
        "id": "556eb632"
      },
      "outputs": [],
      "source": [
        "df1"
      ]
    },
    {
      "cell_type": "code",
      "execution_count": null,
      "id": "10c1b7c7",
      "metadata": {
        "scrolled": true,
        "id": "10c1b7c7"
      },
      "outputs": [],
      "source": [
        "df1.describe()\n",
        "#this description might not be helpful for our dataset as there is no point of calculation of mean, median values of the data"
      ]
    },
    {
      "cell_type": "code",
      "execution_count": null,
      "id": "956df38c",
      "metadata": {
        "id": "956df38c"
      },
      "outputs": [],
      "source": [
        "print(df1.isnull().sum())\n",
        "#this non zero values tell the count of empty cells in the given data."
      ]
    },
    {
      "cell_type": "code",
      "execution_count": null,
      "id": "0e70f2a8",
      "metadata": {
        "id": "0e70f2a8"
      },
      "outputs": [],
      "source": [
        "rows_with_empty_values = df1[df1.isnull().any(axis=1)]\n",
        "print(rows_with_empty_values)\n",
        "#this line helps us to show the rows having the null values in their records"
      ]
    },
    {
      "cell_type": "code",
      "execution_count": null,
      "id": "b653e59c",
      "metadata": {
        "id": "b653e59c"
      },
      "outputs": [],
      "source": [
        "plt.figure(figsize=(5, 6))\n",
        "sns.histplot(df1['Meteor_mass'].dropna(), bins=20, kde=True)\n",
        "plt.xlabel('Meteorite Mass (grams)')\n",
        "plt.ylabel('Frequency')\n",
        "plt.title('Distribution of Meteorite Mass')\n",
        "plt.show()"
      ]
    },
    {
      "cell_type": "code",
      "execution_count": null,
      "id": "051d8480",
      "metadata": {
        "id": "051d8480"
      },
      "outputs": [],
      "source": [
        "meteor_counts = df1.groupby('Meteor_year').size()\n",
        "\n",
        "# Plotting the graph\n",
        "plt.figure(figsize=(10, 6))\n",
        "plt.plot(meteor_counts.index, meteor_counts.values, marker='*', linestyle='-')\n",
        "plt.xlabel('Year of Discovery')\n",
        "plt.ylabel('Count of Meteors')\n",
        "plt.title('Count of Meteors by Year of Discovery')\n",
        "plt.grid(True)\n",
        "#plt.xticks(range(min(meteor_counts.index), max(meteor_counts.index)+1, 50))\n",
        "plt.show()"
      ]
    },
    {
      "cell_type": "code",
      "execution_count": null,
      "id": "16bd89d9",
      "metadata": {
        "id": "16bd89d9"
      },
      "outputs": [],
      "source": [
        "df1 = df1.dropna(subset=['Meteor_year'])\n",
        "df1 = df1[~df1['Meteor_year'].isin([float('inf'), float('-inf')])]\n",
        "\n",
        "# Convert 'Meteor_year' column to integer\n",
        "df1['Meteor_year'] = df1['Meteor_year'].astype(int)\n",
        "\n",
        "# Create a DataFrame with a continuous sequence of years\n",
        "min_year = df1['Meteor_year'].min()\n",
        "max_year = df1['Meteor_year'].max()\n",
        "all_years = pd.DataFrame({'Meteor_year': range(min_year, max_year + 1)})\n",
        "\n",
        "# Group by year and count the number of meteors found in each year\n",
        "meteor_counts = df1.groupby('Meteor_year').size().reindex(all_years['Meteor_year'], fill_value=0)\n",
        "\n",
        "# Plotting the graph\n",
        "plt.figure(figsize=(10, 6))\n",
        "plt.plot(meteor_counts.index, meteor_counts.values, marker='o', linestyle='-')\n",
        "plt.xlabel('Year of Discovery')\n",
        "plt.ylabel('Count of Meteors')\n",
        "plt.title('Count of Meteors by Year of Discovery')\n",
        "plt.grid(True)\n",
        "plt.xticks(meteor_counts.index, rotation=45)  # Rotate x-axis labels for better readability\n",
        "plt.show()"
      ]
    },
    {
      "cell_type": "code",
      "execution_count": null,
      "id": "90ed6513",
      "metadata": {
        "id": "90ed6513"
      },
      "outputs": [],
      "source": [
        "df_sorted = df1.sort_values(by='Meteor_year')\n",
        "\n",
        "# Retrieve the first row (i.e., the earliest discovery)\n",
        "first_meteor = df_sorted.head(1)\n",
        "\n",
        "# Print the details of the first meteor discovery\n",
        "print(\"Details of the first meteor discovery as per the given dataset:\")\n",
        "first_meteor"
      ]
    },
    {
      "cell_type": "code",
      "execution_count": null,
      "id": "265408b8",
      "metadata": {
        "id": "265408b8"
      },
      "outputs": [],
      "source": [
        "heaviest_meteor = df1.loc[df1['Meteor_mass'].idxmax()]\n",
        "print(\"The heaviest meteor fell on Earth:\")\n",
        "print(heaviest_meteor)"
      ]
    },
    {
      "cell_type": "code",
      "execution_count": null,
      "id": "cce7a3e6",
      "metadata": {
        "id": "cce7a3e6"
      },
      "outputs": [],
      "source": [
        "bin_width = int((df1['Meteor_mass'].max() - df1['Meteor_mass'].min()) / 50)\n",
        "\n",
        "plt.figure(figsize=(10, 10))\n",
        "sns.histplot(df1['Meteor_mass'].dropna(), bins=range(int(df1['Meteor_mass'].min()), int(df1['Meteor_mass'].max()) + bin_width, bin_width), kde=False)\n",
        "#sns.histplot(df1['Meteor_mass'].dropna(), bins=10, kde=False)\n",
        "plt.xlabel('Meteorite Mass (grams)')\n",
        "plt.ylabel('Frequency')\n",
        "plt.title('Distribution of Meteorite Mass')\n",
        "plt.show()"
      ]
    },
    {
      "cell_type": "code",
      "execution_count": null,
      "id": "325ebc4b",
      "metadata": {
        "id": "325ebc4b"
      },
      "outputs": [],
      "source": [
        "df1.hist(figsize=(10, 8))\n",
        "plt.tight_layout()\n",
        "plt.show()"
      ]
    },
    {
      "cell_type": "code",
      "execution_count": null,
      "id": "521e6a54",
      "metadata": {
        "id": "521e6a54"
      },
      "outputs": [],
      "source": [
        "#this code displays the world map where the meteor occureence recorded. I have also added advanced visualization of worldmap in below lines of code.\n",
        "\n",
        "gdf = gpd.GeoDataFrame(df1, geometry=gpd.points_from_xy(df1['longitude'], df1['latitude']))\n",
        "\n",
        "# Plot the points in the world map\n",
        "fig, ax = plt.subplots(figsize=(12,12),subplot_kw={'projection': ccrs.PlateCarree()})\n",
        "ax.add_feature(cfeature.COASTLINE)\n",
        "ax.add_feature(cfeature.BORDERS, linestyle=':')\n",
        "ax.set_extent([-180, 180, -90, 90])\n",
        "\n",
        "gdf.plot(ax=ax, marker='*', color='red', markersize=1, alpha=0.7)\n",
        "\n",
        "plt.show()\n"
      ]
    },
    {
      "cell_type": "markdown",
      "id": "5abc5bf4",
      "metadata": {
        "id": "5abc5bf4"
      },
      "source": [
        "The below lines of code creates a html page to visualize the points on world map where the meteor data is recorded"
      ]
    },
    {
      "cell_type": "code",
      "execution_count": null,
      "id": "d72426e7",
      "metadata": {
        "id": "d72426e7"
      },
      "outputs": [],
      "source": [
        "df1_clean = df1.dropna(subset=['latitude', 'longitude'])\n",
        "\n",
        "# Create the map\n",
        "m = folium.Map(location=[df1_clean['latitude'].mean(), df1_clean['longitude'].mean()], zoom_start=1)\n",
        "\n",
        "# Add markers\n",
        "for _, row in df1_clean.iterrows():\n",
        "    folium.Marker([row['latitude'], row['longitude']], popup=row['Meteor_name']).add_to(m)\n",
        "\n",
        "# Save the map\n",
        "m.save('meteor_landings_map.html')"
      ]
    },
    {
      "cell_type": "markdown",
      "id": "b5d51eff",
      "metadata": {
        "id": "b5d51eff"
      },
      "source": [
        "The html web page when opened in the browser shows the visualization of meteor fell places on world map. I have attached the snips below for reference.\n",
        "https://umbc.box.com/s/xyx9k5rmgpe1lhgm0lta88az29hc7xf5\n",
        "https://umbc.box.com/s/igm2fa6t0sb5lj18ui5lkltuotfcr6u6"
      ]
    },
    {
      "cell_type": "code",
      "execution_count": null,
      "id": "183c071c",
      "metadata": {
        "id": "183c071c"
      },
      "outputs": [],
      "source": [
        "#initialize the geolocator\n",
        "#geolocator = Nominatim(user_agent=\"MyGeocoder\")\n",
        "\n",
        "# Define a function to get country from latitude and longitude\n",
        "#def get_country(lat, lon):\n",
        "    #try:\n",
        "        # Get location information\n",
        "       # location = geolocator.reverse([lat, lon], exactly_one=True)\n",
        "        #address = location.raw['address']\n",
        "        #country = address.get('country', '')\n",
        "        #return country\n",
        "    #except:\n",
        "        # Return None if no country found\n",
        "        #return None\n",
        "\n",
        "# Create a new column 'country' using the latitude and longitude columns\n",
        "#df1['country'] = df1.apply(lambda row: get_country(row['latitude'], row['longitude']), axis=1)"
      ]
    },
    {
      "cell_type": "code",
      "execution_count": null,
      "id": "40ae92db",
      "metadata": {
        "id": "40ae92db"
      },
      "outputs": [],
      "source": [
        "As the dataset is large the creation of country column takes long time to run so I commented it above"
      ]
    },
    {
      "cell_type": "code",
      "execution_count": null,
      "id": "4e47da3f",
      "metadata": {
        "id": "4e47da3f"
      },
      "outputs": [],
      "source": [
        "#let me create a histrogram displaying the frequency of meteorites in latitude and longitudes given in the dataset\n",
        "# Remove rows with NaN values in 'latitude' or 'longitude' columns\n",
        "df1_clean = df1.dropna(subset=['latitude', 'longitude'])\n",
        "\n",
        "# Compute bounding box based on non-NaN values\n",
        "boundingBox = {\n",
        "    \"lat\": {\"min\": df1_clean['latitude'].min(), \"max\": df1_clean['latitude'].max()},\n",
        "    \"lon\": {\"min\": df1_clean['longitude'].min(), \"max\": df1_clean['longitude'].max()}\n",
        "}\n",
        "\n",
        "# Define the step size for binning\n",
        "step = 50  # Adjust as needed\n",
        "\n",
        "# Calculate the number of bins\n",
        "noOfLatEdges = int((boundingBox[\"lat\"][\"max\"] - boundingBox[\"lat\"][\"min\"]) / step)\n",
        "noOfLonEdges = int((boundingBox[\"lon\"][\"max\"] - boundingBox[\"lon\"][\"min\"]) / step)\n",
        "\n",
        "# Compute the 2D histogram\n",
        "H, xedges, yedges = np.histogram2d(df1_clean.latitude, df1_clean.longitude, bins=[noOfLatEdges, noOfLonEdges])\n",
        "binnedData = H.T\n",
        "\n",
        "# Display the 2D histogram\n",
        "plt.imshow(binnedData, extent=[xedges[0], xedges[-1], yedges[0], yedges[-1]], origin='lower', aspect='auto')\n",
        "plt.colorbar(label='Frequency')\n",
        "plt.xlabel('Latitude')\n",
        "plt.ylabel('Longitude')\n",
        "plt.title('2D Histogram of Latitude and Longitude')\n",
        "plt.show()\n"
      ]
    }
  ],
  "metadata": {
    "kernelspec": {
      "display_name": "Python 3 (ipykernel)",
      "language": "python",
      "name": "python3"
    },
    "language_info": {
      "codemirror_mode": {
        "name": "ipython",
        "version": 3
      },
      "file_extension": ".py",
      "mimetype": "text/x-python",
      "name": "python",
      "nbconvert_exporter": "python",
      "pygments_lexer": "ipython3",
      "version": "3.11.5"
    },
    "colab": {
      "provenance": []
    }
  },
  "nbformat": 4,
  "nbformat_minor": 5
}