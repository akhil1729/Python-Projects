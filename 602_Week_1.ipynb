{
  "cells": [
    {
      "cell_type": "markdown",
      "metadata": {
        "id": "view-in-github",
        "colab_type": "text"
      },
      "source": [
        "<a href=\"https://colab.research.google.com/github/akhil1729/Python-Projects/blob/main/602_Week_1.ipynb\" target=\"_parent\"><img src=\"https://colab.research.google.com/assets/colab-badge.svg\" alt=\"Open In Colab\"/></a>"
      ]
    },
    {
      "cell_type": "markdown",
      "metadata": {
        "id": "wxKNgUhRLAwD"
      },
      "source": [
        "# Solution - Problem Set 1"
      ]
    },
    {
      "cell_type": "markdown",
      "metadata": {
        "id": "nS4C_IlTLEvi"
      },
      "source": [
        "## Preparation"
      ]
    },
    {
      "cell_type": "code",
      "execution_count": null,
      "metadata": {
        "colab": {
          "base_uri": "https://localhost:8080/"
        },
        "id": "bxyfs1edBLuT",
        "outputId": "e298498b-7851-458c-e57f-7a9dac8971b9"
      },
      "outputs": [
        {
          "output_type": "stream",
          "name": "stdout",
          "text": [
            "Mounted at /content/drive\n"
          ]
        }
      ],
      "source": [
        "# You will need the shared Google drive https://drive.google.com/drive/u/1/folders/0ALmMMRrzz_-5Uk9PVA\n",
        "from google.colab import drive\n",
        "drive.mount(\"/content/drive\",force_remount=True)\n",
        "!mkdir -p datashim\n",
        "!cp /content/drive/Shareddrives/DS602-F22/Data/data602.py ./datashim\n",
        "from datashim import data602"
      ]
    },
    {
      "cell_type": "code",
      "execution_count": null,
      "metadata": {
        "id": "k6KwqWpM5VqR"
      },
      "outputs": [],
      "source": [
        "#load the citation and weather datasets\n",
        "cdf = data602.read_citations()\n",
        "wdf = data602.read_weather()"
      ]
    },
    {
      "cell_type": "markdown",
      "metadata": {
        "id": "ukRW9IhlWBbt"
      },
      "source": [
        "## Question 1 -- Data Exploration"
      ]
    },
    {
      "cell_type": "markdown",
      "metadata": {
        "id": "7o61g4aGWFYr"
      },
      "source": [
        "### Part A\n",
        "Over the entire dataset, which observations had the hottest and coldest temperatures?  What were those temperatures?"
      ]
    },
    {
      "cell_type": "code",
      "execution_count": null,
      "metadata": {
        "id": "nhfDScWfNzpn",
        "outputId": "5d772ed4-e34c-4476-8886-f36d444eca21",
        "colab": {
          "base_uri": "https://localhost:8080/",
          "height": 424
        }
      },
      "outputs": [
        {
          "output_type": "execute_result",
          "data": {
            "text/plain": [
              "                           date  wnd_speed  tmp_meas  precip  \\\n",
              "0     2015-12-31 19:54:00-05:00        1.5       7.2     0.0   \n",
              "1     2015-12-31 20:54:00-05:00        3.1       6.1     0.0   \n",
              "2     2015-12-31 21:54:00-05:00        2.1       6.7     0.0   \n",
              "3     2015-12-31 22:54:00-05:00        2.6       6.1     0.0   \n",
              "4     2015-12-31 23:54:00-05:00        2.1       5.6     0.0   \n",
              "...                         ...        ...       ...     ...   \n",
              "67198 2023-09-01 15:54:00-04:00        1.5      26.7     0.0   \n",
              "67199 2023-09-01 16:54:00-04:00        4.6      26.7     0.0   \n",
              "67200 2023-09-01 17:54:00-04:00        3.6      26.1     0.0   \n",
              "67201 2023-09-01 18:54:00-04:00        3.6      24.4     0.0   \n",
              "67202 2023-09-01 19:54:00-04:00        2.1      22.8     0.0   \n",
              "\n",
              "       precip_intensity  cloudcover  tstorm  winter  mist  fog  \n",
              "0                     0         4.0       0       0     0    0  \n",
              "1                     0         4.0       0       0     0    0  \n",
              "2                     0         4.0       0       0     0    0  \n",
              "3                     0         4.0       0       0     0    0  \n",
              "4                     0         4.0       0       0     0    0  \n",
              "...                 ...         ...     ...     ...   ...  ...  \n",
              "67198                 0         1.0       0       0     0    0  \n",
              "67199                 0         1.0       0       0     0    0  \n",
              "67200                 0         1.0       0       0     0    0  \n",
              "67201                 0         1.0       0       0     0    0  \n",
              "67202                 0         1.0       0       0     0    0  \n",
              "\n",
              "[67203 rows x 10 columns]"
            ],
            "text/html": [
              "\n",
              "  <div id=\"df-1e45c55a-d0a4-4aeb-950c-c0741aaa2ab6\" class=\"colab-df-container\">\n",
              "    <div>\n",
              "<style scoped>\n",
              "    .dataframe tbody tr th:only-of-type {\n",
              "        vertical-align: middle;\n",
              "    }\n",
              "\n",
              "    .dataframe tbody tr th {\n",
              "        vertical-align: top;\n",
              "    }\n",
              "\n",
              "    .dataframe thead th {\n",
              "        text-align: right;\n",
              "    }\n",
              "</style>\n",
              "<table border=\"1\" class=\"dataframe\">\n",
              "  <thead>\n",
              "    <tr style=\"text-align: right;\">\n",
              "      <th></th>\n",
              "      <th>date</th>\n",
              "      <th>wnd_speed</th>\n",
              "      <th>tmp_meas</th>\n",
              "      <th>precip</th>\n",
              "      <th>precip_intensity</th>\n",
              "      <th>cloudcover</th>\n",
              "      <th>tstorm</th>\n",
              "      <th>winter</th>\n",
              "      <th>mist</th>\n",
              "      <th>fog</th>\n",
              "    </tr>\n",
              "  </thead>\n",
              "  <tbody>\n",
              "    <tr>\n",
              "      <th>0</th>\n",
              "      <td>2015-12-31 19:54:00-05:00</td>\n",
              "      <td>1.5</td>\n",
              "      <td>7.2</td>\n",
              "      <td>0.0</td>\n",
              "      <td>0</td>\n",
              "      <td>4.0</td>\n",
              "      <td>0</td>\n",
              "      <td>0</td>\n",
              "      <td>0</td>\n",
              "      <td>0</td>\n",
              "    </tr>\n",
              "    <tr>\n",
              "      <th>1</th>\n",
              "      <td>2015-12-31 20:54:00-05:00</td>\n",
              "      <td>3.1</td>\n",
              "      <td>6.1</td>\n",
              "      <td>0.0</td>\n",
              "      <td>0</td>\n",
              "      <td>4.0</td>\n",
              "      <td>0</td>\n",
              "      <td>0</td>\n",
              "      <td>0</td>\n",
              "      <td>0</td>\n",
              "    </tr>\n",
              "    <tr>\n",
              "      <th>2</th>\n",
              "      <td>2015-12-31 21:54:00-05:00</td>\n",
              "      <td>2.1</td>\n",
              "      <td>6.7</td>\n",
              "      <td>0.0</td>\n",
              "      <td>0</td>\n",
              "      <td>4.0</td>\n",
              "      <td>0</td>\n",
              "      <td>0</td>\n",
              "      <td>0</td>\n",
              "      <td>0</td>\n",
              "    </tr>\n",
              "    <tr>\n",
              "      <th>3</th>\n",
              "      <td>2015-12-31 22:54:00-05:00</td>\n",
              "      <td>2.6</td>\n",
              "      <td>6.1</td>\n",
              "      <td>0.0</td>\n",
              "      <td>0</td>\n",
              "      <td>4.0</td>\n",
              "      <td>0</td>\n",
              "      <td>0</td>\n",
              "      <td>0</td>\n",
              "      <td>0</td>\n",
              "    </tr>\n",
              "    <tr>\n",
              "      <th>4</th>\n",
              "      <td>2015-12-31 23:54:00-05:00</td>\n",
              "      <td>2.1</td>\n",
              "      <td>5.6</td>\n",
              "      <td>0.0</td>\n",
              "      <td>0</td>\n",
              "      <td>4.0</td>\n",
              "      <td>0</td>\n",
              "      <td>0</td>\n",
              "      <td>0</td>\n",
              "      <td>0</td>\n",
              "    </tr>\n",
              "    <tr>\n",
              "      <th>...</th>\n",
              "      <td>...</td>\n",
              "      <td>...</td>\n",
              "      <td>...</td>\n",
              "      <td>...</td>\n",
              "      <td>...</td>\n",
              "      <td>...</td>\n",
              "      <td>...</td>\n",
              "      <td>...</td>\n",
              "      <td>...</td>\n",
              "      <td>...</td>\n",
              "    </tr>\n",
              "    <tr>\n",
              "      <th>67198</th>\n",
              "      <td>2023-09-01 15:54:00-04:00</td>\n",
              "      <td>1.5</td>\n",
              "      <td>26.7</td>\n",
              "      <td>0.0</td>\n",
              "      <td>0</td>\n",
              "      <td>1.0</td>\n",
              "      <td>0</td>\n",
              "      <td>0</td>\n",
              "      <td>0</td>\n",
              "      <td>0</td>\n",
              "    </tr>\n",
              "    <tr>\n",
              "      <th>67199</th>\n",
              "      <td>2023-09-01 16:54:00-04:00</td>\n",
              "      <td>4.6</td>\n",
              "      <td>26.7</td>\n",
              "      <td>0.0</td>\n",
              "      <td>0</td>\n",
              "      <td>1.0</td>\n",
              "      <td>0</td>\n",
              "      <td>0</td>\n",
              "      <td>0</td>\n",
              "      <td>0</td>\n",
              "    </tr>\n",
              "    <tr>\n",
              "      <th>67200</th>\n",
              "      <td>2023-09-01 17:54:00-04:00</td>\n",
              "      <td>3.6</td>\n",
              "      <td>26.1</td>\n",
              "      <td>0.0</td>\n",
              "      <td>0</td>\n",
              "      <td>1.0</td>\n",
              "      <td>0</td>\n",
              "      <td>0</td>\n",
              "      <td>0</td>\n",
              "      <td>0</td>\n",
              "    </tr>\n",
              "    <tr>\n",
              "      <th>67201</th>\n",
              "      <td>2023-09-01 18:54:00-04:00</td>\n",
              "      <td>3.6</td>\n",
              "      <td>24.4</td>\n",
              "      <td>0.0</td>\n",
              "      <td>0</td>\n",
              "      <td>1.0</td>\n",
              "      <td>0</td>\n",
              "      <td>0</td>\n",
              "      <td>0</td>\n",
              "      <td>0</td>\n",
              "    </tr>\n",
              "    <tr>\n",
              "      <th>67202</th>\n",
              "      <td>2023-09-01 19:54:00-04:00</td>\n",
              "      <td>2.1</td>\n",
              "      <td>22.8</td>\n",
              "      <td>0.0</td>\n",
              "      <td>0</td>\n",
              "      <td>1.0</td>\n",
              "      <td>0</td>\n",
              "      <td>0</td>\n",
              "      <td>0</td>\n",
              "      <td>0</td>\n",
              "    </tr>\n",
              "  </tbody>\n",
              "</table>\n",
              "<p>67203 rows × 10 columns</p>\n",
              "</div>\n",
              "    <div class=\"colab-df-buttons\">\n",
              "\n",
              "  <div class=\"colab-df-container\">\n",
              "    <button class=\"colab-df-convert\" onclick=\"convertToInteractive('df-1e45c55a-d0a4-4aeb-950c-c0741aaa2ab6')\"\n",
              "            title=\"Convert this dataframe to an interactive table.\"\n",
              "            style=\"display:none;\">\n",
              "\n",
              "  <svg xmlns=\"http://www.w3.org/2000/svg\" height=\"24px\" viewBox=\"0 -960 960 960\">\n",
              "    <path d=\"M120-120v-720h720v720H120Zm60-500h600v-160H180v160Zm220 220h160v-160H400v160Zm0 220h160v-160H400v160ZM180-400h160v-160H180v160Zm440 0h160v-160H620v160ZM180-180h160v-160H180v160Zm440 0h160v-160H620v160Z\"/>\n",
              "  </svg>\n",
              "    </button>\n",
              "\n",
              "  <style>\n",
              "    .colab-df-container {\n",
              "      display:flex;\n",
              "      gap: 12px;\n",
              "    }\n",
              "\n",
              "    .colab-df-convert {\n",
              "      background-color: #E8F0FE;\n",
              "      border: none;\n",
              "      border-radius: 50%;\n",
              "      cursor: pointer;\n",
              "      display: none;\n",
              "      fill: #1967D2;\n",
              "      height: 32px;\n",
              "      padding: 0 0 0 0;\n",
              "      width: 32px;\n",
              "    }\n",
              "\n",
              "    .colab-df-convert:hover {\n",
              "      background-color: #E2EBFA;\n",
              "      box-shadow: 0px 1px 2px rgba(60, 64, 67, 0.3), 0px 1px 3px 1px rgba(60, 64, 67, 0.15);\n",
              "      fill: #174EA6;\n",
              "    }\n",
              "\n",
              "    .colab-df-buttons div {\n",
              "      margin-bottom: 4px;\n",
              "    }\n",
              "\n",
              "    [theme=dark] .colab-df-convert {\n",
              "      background-color: #3B4455;\n",
              "      fill: #D2E3FC;\n",
              "    }\n",
              "\n",
              "    [theme=dark] .colab-df-convert:hover {\n",
              "      background-color: #434B5C;\n",
              "      box-shadow: 0px 1px 3px 1px rgba(0, 0, 0, 0.15);\n",
              "      filter: drop-shadow(0px 1px 2px rgba(0, 0, 0, 0.3));\n",
              "      fill: #FFFFFF;\n",
              "    }\n",
              "  </style>\n",
              "\n",
              "    <script>\n",
              "      const buttonEl =\n",
              "        document.querySelector('#df-1e45c55a-d0a4-4aeb-950c-c0741aaa2ab6 button.colab-df-convert');\n",
              "      buttonEl.style.display =\n",
              "        google.colab.kernel.accessAllowed ? 'block' : 'none';\n",
              "\n",
              "      async function convertToInteractive(key) {\n",
              "        const element = document.querySelector('#df-1e45c55a-d0a4-4aeb-950c-c0741aaa2ab6');\n",
              "        const dataTable =\n",
              "          await google.colab.kernel.invokeFunction('convertToInteractive',\n",
              "                                                    [key], {});\n",
              "        if (!dataTable) return;\n",
              "\n",
              "        const docLinkHtml = 'Like what you see? Visit the ' +\n",
              "          '<a target=\"_blank\" href=https://colab.research.google.com/notebooks/data_table.ipynb>data table notebook</a>'\n",
              "          + ' to learn more about interactive tables.';\n",
              "        element.innerHTML = '';\n",
              "        dataTable['output_type'] = 'display_data';\n",
              "        await google.colab.output.renderOutput(dataTable, element);\n",
              "        const docLink = document.createElement('div');\n",
              "        docLink.innerHTML = docLinkHtml;\n",
              "        element.appendChild(docLink);\n",
              "      }\n",
              "    </script>\n",
              "  </div>\n",
              "\n",
              "\n",
              "<div id=\"df-6678b434-06c9-4b39-b287-d430d0fcf826\">\n",
              "  <button class=\"colab-df-quickchart\" onclick=\"quickchart('df-6678b434-06c9-4b39-b287-d430d0fcf826')\"\n",
              "            title=\"Suggest charts\"\n",
              "            style=\"display:none;\">\n",
              "\n",
              "<svg xmlns=\"http://www.w3.org/2000/svg\" height=\"24px\"viewBox=\"0 0 24 24\"\n",
              "     width=\"24px\">\n",
              "    <g>\n",
              "        <path d=\"M19 3H5c-1.1 0-2 .9-2 2v14c0 1.1.9 2 2 2h14c1.1 0 2-.9 2-2V5c0-1.1-.9-2-2-2zM9 17H7v-7h2v7zm4 0h-2V7h2v10zm4 0h-2v-4h2v4z\"/>\n",
              "    </g>\n",
              "</svg>\n",
              "  </button>\n",
              "\n",
              "<style>\n",
              "  .colab-df-quickchart {\n",
              "      --bg-color: #E8F0FE;\n",
              "      --fill-color: #1967D2;\n",
              "      --hover-bg-color: #E2EBFA;\n",
              "      --hover-fill-color: #174EA6;\n",
              "      --disabled-fill-color: #AAA;\n",
              "      --disabled-bg-color: #DDD;\n",
              "  }\n",
              "\n",
              "  [theme=dark] .colab-df-quickchart {\n",
              "      --bg-color: #3B4455;\n",
              "      --fill-color: #D2E3FC;\n",
              "      --hover-bg-color: #434B5C;\n",
              "      --hover-fill-color: #FFFFFF;\n",
              "      --disabled-bg-color: #3B4455;\n",
              "      --disabled-fill-color: #666;\n",
              "  }\n",
              "\n",
              "  .colab-df-quickchart {\n",
              "    background-color: var(--bg-color);\n",
              "    border: none;\n",
              "    border-radius: 50%;\n",
              "    cursor: pointer;\n",
              "    display: none;\n",
              "    fill: var(--fill-color);\n",
              "    height: 32px;\n",
              "    padding: 0;\n",
              "    width: 32px;\n",
              "  }\n",
              "\n",
              "  .colab-df-quickchart:hover {\n",
              "    background-color: var(--hover-bg-color);\n",
              "    box-shadow: 0 1px 2px rgba(60, 64, 67, 0.3), 0 1px 3px 1px rgba(60, 64, 67, 0.15);\n",
              "    fill: var(--button-hover-fill-color);\n",
              "  }\n",
              "\n",
              "  .colab-df-quickchart-complete:disabled,\n",
              "  .colab-df-quickchart-complete:disabled:hover {\n",
              "    background-color: var(--disabled-bg-color);\n",
              "    fill: var(--disabled-fill-color);\n",
              "    box-shadow: none;\n",
              "  }\n",
              "\n",
              "  .colab-df-spinner {\n",
              "    border: 2px solid var(--fill-color);\n",
              "    border-color: transparent;\n",
              "    border-bottom-color: var(--fill-color);\n",
              "    animation:\n",
              "      spin 1s steps(1) infinite;\n",
              "  }\n",
              "\n",
              "  @keyframes spin {\n",
              "    0% {\n",
              "      border-color: transparent;\n",
              "      border-bottom-color: var(--fill-color);\n",
              "      border-left-color: var(--fill-color);\n",
              "    }\n",
              "    20% {\n",
              "      border-color: transparent;\n",
              "      border-left-color: var(--fill-color);\n",
              "      border-top-color: var(--fill-color);\n",
              "    }\n",
              "    30% {\n",
              "      border-color: transparent;\n",
              "      border-left-color: var(--fill-color);\n",
              "      border-top-color: var(--fill-color);\n",
              "      border-right-color: var(--fill-color);\n",
              "    }\n",
              "    40% {\n",
              "      border-color: transparent;\n",
              "      border-right-color: var(--fill-color);\n",
              "      border-top-color: var(--fill-color);\n",
              "    }\n",
              "    60% {\n",
              "      border-color: transparent;\n",
              "      border-right-color: var(--fill-color);\n",
              "    }\n",
              "    80% {\n",
              "      border-color: transparent;\n",
              "      border-right-color: var(--fill-color);\n",
              "      border-bottom-color: var(--fill-color);\n",
              "    }\n",
              "    90% {\n",
              "      border-color: transparent;\n",
              "      border-bottom-color: var(--fill-color);\n",
              "    }\n",
              "  }\n",
              "</style>\n",
              "\n",
              "  <script>\n",
              "    async function quickchart(key) {\n",
              "      const quickchartButtonEl =\n",
              "        document.querySelector('#' + key + ' button');\n",
              "      quickchartButtonEl.disabled = true;  // To prevent multiple clicks.\n",
              "      quickchartButtonEl.classList.add('colab-df-spinner');\n",
              "      try {\n",
              "        const charts = await google.colab.kernel.invokeFunction(\n",
              "            'suggestCharts', [key], {});\n",
              "      } catch (error) {\n",
              "        console.error('Error during call to suggestCharts:', error);\n",
              "      }\n",
              "      quickchartButtonEl.classList.remove('colab-df-spinner');\n",
              "      quickchartButtonEl.classList.add('colab-df-quickchart-complete');\n",
              "    }\n",
              "    (() => {\n",
              "      let quickchartButtonEl =\n",
              "        document.querySelector('#df-6678b434-06c9-4b39-b287-d430d0fcf826 button');\n",
              "      quickchartButtonEl.style.display =\n",
              "        google.colab.kernel.accessAllowed ? 'block' : 'none';\n",
              "    })();\n",
              "  </script>\n",
              "</div>\n",
              "\n",
              "  <div id=\"id_8dd618f0-7a3e-4c1a-9dcc-1542666f92d9\">\n",
              "    <style>\n",
              "      .colab-df-generate {\n",
              "        background-color: #E8F0FE;\n",
              "        border: none;\n",
              "        border-radius: 50%;\n",
              "        cursor: pointer;\n",
              "        display: none;\n",
              "        fill: #1967D2;\n",
              "        height: 32px;\n",
              "        padding: 0 0 0 0;\n",
              "        width: 32px;\n",
              "      }\n",
              "\n",
              "      .colab-df-generate:hover {\n",
              "        background-color: #E2EBFA;\n",
              "        box-shadow: 0px 1px 2px rgba(60, 64, 67, 0.3), 0px 1px 3px 1px rgba(60, 64, 67, 0.15);\n",
              "        fill: #174EA6;\n",
              "      }\n",
              "\n",
              "      [theme=dark] .colab-df-generate {\n",
              "        background-color: #3B4455;\n",
              "        fill: #D2E3FC;\n",
              "      }\n",
              "\n",
              "      [theme=dark] .colab-df-generate:hover {\n",
              "        background-color: #434B5C;\n",
              "        box-shadow: 0px 1px 3px 1px rgba(0, 0, 0, 0.15);\n",
              "        filter: drop-shadow(0px 1px 2px rgba(0, 0, 0, 0.3));\n",
              "        fill: #FFFFFF;\n",
              "      }\n",
              "    </style>\n",
              "    <button class=\"colab-df-generate\" onclick=\"generateWithVariable('wdf')\"\n",
              "            title=\"Generate code using this dataframe.\"\n",
              "            style=\"display:none;\">\n",
              "\n",
              "  <svg xmlns=\"http://www.w3.org/2000/svg\" height=\"24px\"viewBox=\"0 0 24 24\"\n",
              "       width=\"24px\">\n",
              "    <path d=\"M7,19H8.4L18.45,9,17,7.55,7,17.6ZM5,21V16.75L18.45,3.32a2,2,0,0,1,2.83,0l1.4,1.43a1.91,1.91,0,0,1,.58,1.4,1.91,1.91,0,0,1-.58,1.4L9.25,21ZM18.45,9,17,7.55Zm-12,3A5.31,5.31,0,0,0,4.9,8.1,5.31,5.31,0,0,0,1,6.5,5.31,5.31,0,0,0,4.9,4.9,5.31,5.31,0,0,0,6.5,1,5.31,5.31,0,0,0,8.1,4.9,5.31,5.31,0,0,0,12,6.5,5.46,5.46,0,0,0,6.5,12Z\"/>\n",
              "  </svg>\n",
              "    </button>\n",
              "    <script>\n",
              "      (() => {\n",
              "      const buttonEl =\n",
              "        document.querySelector('#id_8dd618f0-7a3e-4c1a-9dcc-1542666f92d9 button.colab-df-generate');\n",
              "      buttonEl.style.display =\n",
              "        google.colab.kernel.accessAllowed ? 'block' : 'none';\n",
              "\n",
              "      buttonEl.onclick = () => {\n",
              "        google.colab.notebook.generateWithVariable('wdf');\n",
              "      }\n",
              "      })();\n",
              "    </script>\n",
              "  </div>\n",
              "\n",
              "    </div>\n",
              "  </div>\n"
            ],
            "application/vnd.google.colaboratory.intrinsic+json": {
              "type": "dataframe",
              "variable_name": "wdf",
              "summary": "{\n  \"name\": \"wdf\",\n  \"rows\": 67203,\n  \"fields\": [\n    {\n      \"column\": \"date\",\n      \"properties\": {\n        \"dtype\": \"date\",\n        \"min\": \"2015-12-31 19:54:00-05:00\",\n        \"max\": \"2023-09-01 19:54:00-04:00\",\n        \"num_unique_values\": 67203,\n        \"samples\": [\n          \"2017-02-07 21:54:00-05:00\",\n          \"2018-08-19 05:54:00-04:00\",\n          \"2019-09-18 01:54:00-04:00\"\n        ],\n        \"semantic_type\": \"\",\n        \"description\": \"\"\n      }\n    },\n    {\n      \"column\": \"wnd_speed\",\n      \"properties\": {\n        \"dtype\": \"number\",\n        \"std\": 2.2973958085029715,\n        \"min\": 0.0,\n        \"max\": 19.0,\n        \"num_unique_values\": 35,\n        \"samples\": [\n          12.9,\n          4.1,\n          13.4\n        ],\n        \"semantic_type\": \"\",\n        \"description\": \"\"\n      }\n    },\n    {\n      \"column\": \"tmp_meas\",\n      \"properties\": {\n        \"dtype\": \"number\",\n        \"std\": 10.071505074394627,\n        \"min\": -16.1,\n        \"max\": 37.8,\n        \"num_unique_values\": 111,\n        \"samples\": [\n          30.6,\n          0.6,\n          5.0\n        ],\n        \"semantic_type\": \"\",\n        \"description\": \"\"\n      }\n    },\n    {\n      \"column\": \"precip\",\n      \"properties\": {\n        \"dtype\": \"number\",\n        \"std\": 1.0433885481959178,\n        \"min\": 0.0,\n        \"max\": 78.7,\n        \"num_unique_values\": 108,\n        \"samples\": [\n          21.3,\n          1.2,\n          4.1\n        ],\n        \"semantic_type\": \"\",\n        \"description\": \"\"\n      }\n    },\n    {\n      \"column\": \"precip_intensity\",\n      \"properties\": {\n        \"dtype\": \"number\",\n        \"std\": 0,\n        \"min\": 0,\n        \"max\": 3,\n        \"num_unique_values\": 4,\n        \"samples\": [\n          1,\n          3,\n          0\n        ],\n        \"semantic_type\": \"\",\n        \"description\": \"\"\n      }\n    },\n    {\n      \"column\": \"cloudcover\",\n      \"properties\": {\n        \"dtype\": \"number\",\n        \"std\": 1.2884910242718168,\n        \"min\": 0.0,\n        \"max\": 5.0,\n        \"num_unique_values\": 6,\n        \"samples\": [\n          4.0,\n          3.0,\n          5.0\n        ],\n        \"semantic_type\": \"\",\n        \"description\": \"\"\n      }\n    },\n    {\n      \"column\": \"tstorm\",\n      \"properties\": {\n        \"dtype\": \"number\",\n        \"std\": 0,\n        \"min\": 0,\n        \"max\": 1,\n        \"num_unique_values\": 2,\n        \"samples\": [\n          1,\n          0\n        ],\n        \"semantic_type\": \"\",\n        \"description\": \"\"\n      }\n    },\n    {\n      \"column\": \"winter\",\n      \"properties\": {\n        \"dtype\": \"number\",\n        \"std\": 0,\n        \"min\": 0,\n        \"max\": 1,\n        \"num_unique_values\": 2,\n        \"samples\": [\n          1,\n          0\n        ],\n        \"semantic_type\": \"\",\n        \"description\": \"\"\n      }\n    },\n    {\n      \"column\": \"mist\",\n      \"properties\": {\n        \"dtype\": \"number\",\n        \"std\": 0,\n        \"min\": 0,\n        \"max\": 1,\n        \"num_unique_values\": 2,\n        \"samples\": [\n          1,\n          0\n        ],\n        \"semantic_type\": \"\",\n        \"description\": \"\"\n      }\n    },\n    {\n      \"column\": \"fog\",\n      \"properties\": {\n        \"dtype\": \"number\",\n        \"std\": 0,\n        \"min\": 0,\n        \"max\": 1,\n        \"num_unique_values\": 2,\n        \"samples\": [\n          1,\n          0\n        ],\n        \"semantic_type\": \"\",\n        \"description\": \"\"\n      }\n    }\n  ]\n}"
            }
          },
          "metadata": {},
          "execution_count": 3
        }
      ],
      "source": [
        "#Let's see the dataframe of weather dataset\n",
        "wdf"
      ]
    },
    {
      "cell_type": "code",
      "source": [
        "#For performing dataframe operations import pandas library\n",
        "\n",
        "import pandas as pd\n",
        "\n",
        "#In order to perform hottest and coldest temperature operations, let's concentrate on 'tmp_meas' column in the dataframe\n",
        "\n",
        "null_count = wdf['tmp_meas'].isna().sum()\n",
        "print(null_count)"
      ],
      "metadata": {
        "id": "5fFEan0dXifd",
        "outputId": "ce63243f-2a3a-4a3d-ce5e-1b0b4714f479",
        "colab": {
          "base_uri": "https://localhost:8080/"
        }
      },
      "execution_count": null,
      "outputs": [
        {
          "output_type": "stream",
          "name": "stdout",
          "text": [
            "2\n"
          ]
        }
      ]
    },
    {
      "cell_type": "code",
      "source": [
        "#We have 2 records of data having null values in the 'temp_meas' column, so lets drop the null values observed\n",
        "df_clean = wdf.dropna(subset=['tmp_meas'])\n",
        "\n",
        "#lets sort the dataframe by 'tmp_meas' column\n",
        "sorted_df = df_clean.sort_values(by='tmp_meas', ascending=False)\n",
        "\n",
        "\n",
        "# Finding the hottest temperature from the dataset\n",
        "hottest_temperature = df_clean['tmp_meas'].max()\n",
        "\n",
        "\n",
        "# Finding the coldest temperature from the dataset\n",
        "coldest_temperature = df_clean['tmp_meas'].min()\n",
        "\n",
        "# Get all rows with the hottest temperature\n",
        "hottest_observations = df_clean[df_clean['tmp_meas'] == hottest_temperature]\n",
        "# Get all rows with the coldest temperature\n",
        "coldest_observations = df_clean[df_clean['tmp_meas'] == coldest_temperature]\n",
        "\n",
        "\n",
        "\n",
        "# Print the observations\n",
        "print(\"Hottest Observation in the weather dataset:\")\n",
        "print(hottest_observations)\n",
        "print(\"\\nColdest Observation in the weather dataset:\")\n",
        "print(coldest_observations)\n",
        "\n",
        "#Print the temperatures\n",
        "print(f\"\\nHottest Temperature recorded: {hottest_temperature}°C\")\n",
        "print(f\"Coldest Temperature recorded: {coldest_temperature}°C\")"
      ],
      "metadata": {
        "id": "rdYoPKZxY1fT",
        "outputId": "55ab0604-34c6-4d42-cfb1-d28d995716b8",
        "colab": {
          "base_uri": "https://localhost:8080/"
        }
      },
      "execution_count": null,
      "outputs": [
        {
          "output_type": "stream",
          "name": "stdout",
          "text": [
            "Hottest Observation in the weather dataset:\n",
            "                           date  wnd_speed  tmp_meas  precip  \\\n",
            "39893 2020-07-20 16:54:00-04:00        5.7      37.8     0.0   \n",
            "\n",
            "       precip_intensity  cloudcover  tstorm  winter  mist  fog  \n",
            "39893                 0         2.0       0       0     0    0  \n",
            "\n",
            "Coldest Observation in the weather dataset:\n",
            "                           date  wnd_speed  tmp_meas  precip  \\\n",
            "17694 2018-01-07 04:54:00-05:00        2.1     -16.1     0.0   \n",
            "17696 2018-01-07 06:54:00-05:00        0.0     -16.1     0.0   \n",
            "\n",
            "       precip_intensity  cloudcover  tstorm  winter  mist  fog  \n",
            "17694                 0         0.0       0       0     0    0  \n",
            "17696                 0         0.0       0       0     0    0  \n",
            "\n",
            "Hottest Temperature recorded: 37.8°C\n",
            "Coldest Temperature recorded: -16.1°C\n"
          ]
        }
      ]
    },
    {
      "cell_type": "markdown",
      "metadata": {
        "id": "-vPvumsBNzpn"
      },
      "source": [
        "\n",
        "### Part B\n",
        "In 2022, what month had the hottest average temperature?  The coldest?"
      ]
    },
    {
      "cell_type": "code",
      "execution_count": null,
      "metadata": {
        "id": "4EiDliF6Nzpn",
        "colab": {
          "base_uri": "https://localhost:8080/"
        },
        "outputId": "68dd1465-d31d-4571-9191-e6e8cb66e772"
      },
      "outputs": [
        {
          "output_type": "stream",
          "name": "stdout",
          "text": [
            "Month with the hottest average temperature in 2022: July\n",
            "Average hottest Temperature: 26.676881720430107°C\n",
            "Month with the coldest average temperature in 2022: January\n",
            "Average coldest Temperature: 0.16586021505376344°C\n"
          ]
        }
      ],
      "source": [
        "#Let's consider calender package for date, month and year extraction from date column in the dataset\n",
        "import calendar\n",
        "\n",
        "\n",
        "#let's convert the date column in the dataset to the datetime format for further analysis\n",
        "wdf['date'] = pd.to_datetime(wdf['date'])\n",
        "\n",
        "# Filtering the data for the year 2022\n",
        "df_2022 = wdf[wdf['date'].dt.year == 2022]\n",
        "\n",
        "# Drop rows where 'tmp_meas' is NaN as we have few null values in the temperature column\n",
        "df_2022_clean = df_2022.dropna(subset=['tmp_meas'])\n",
        "\n",
        "# Extracting month and year from the 'date' column\n",
        "df_2022_clean['month'] = df_2022_clean['date'].dt.month\n",
        "\n",
        "# Calculating the average temperature for each month\n",
        "monthly_avg_temp = df_2022_clean.groupby('month')['tmp_meas'].mean()\n",
        "\n",
        "# Finding the month with the highest average temperature\n",
        "hottest_month_num = monthly_avg_temp.idxmax()\n",
        "hottest_temperature = monthly_avg_temp.max()\n",
        "hottest_month_name = calendar.month_name[hottest_month_num]\n",
        "\n",
        "# Finding the month with the lowest average temperature\n",
        "coldest_month_num = monthly_avg_temp.idxmin()\n",
        "coldest_temperature = monthly_avg_temp.min()\n",
        "coldest_month_name = calendar.month_name[coldest_month_num]\n",
        "\n",
        "# Printing the required results\n",
        "print(f\"Month with the hottest average temperature in 2022: {hottest_month_name}\")\n",
        "print(f\"Average hottest Temperature: {hottest_temperature}°C\")\n",
        "print(f\"Month with the coldest average temperature in 2022: {coldest_month_name}\")\n",
        "print(f\"Average coldest Temperature: {coldest_temperature}°C\")\n",
        "\n",
        "\n",
        "\n",
        "# REFERENCES : https://pandas.pydata.org/docs/reference/api/pandas.to_datetime.html\n"
      ]
    },
    {
      "cell_type": "markdown",
      "metadata": {
        "id": "SE5byIEDNzpo"
      },
      "source": [
        "\n",
        "### Part C\n",
        "In 2022, how many days were associated with rain (i.e., liquid precipitation exceeding zero for at least one observation)?\n"
      ]
    },
    {
      "cell_type": "code",
      "execution_count": null,
      "metadata": {
        "id": "oqyAfmthNzpo",
        "colab": {
          "base_uri": "https://localhost:8080/"
        },
        "outputId": "f0d55195-7369-4524-f011-287a56d30b1b"
      },
      "outputs": [
        {
          "output_type": "stream",
          "name": "stdout",
          "text": [
            "Number of days associated with rain in 2022: 120\n"
          ]
        }
      ],
      "source": [
        "#let's convert the date column in the dataset to the datetime format for further analysis\n",
        "wdf['date'] = pd.to_datetime(wdf['date'])\n",
        "\n",
        "# Filter the data for the year 2022\n",
        "df_2022 = wdf[wdf['date'].dt.year == 2022]\n",
        "\n",
        "# Set the 'date' column as the index\n",
        "# set_index() method sets the date column as the index of the DataFrame\n",
        "df_2022.set_index('date', inplace=True)\n",
        "\n",
        "# Resample the data to daily frequency and sum the precipitation values\n",
        "# resample('D') resamples the data to a daily frequency ('D' stands for day as per the question).\n",
        "daily_precipitation = df_2022['precip'].resample('D').sum()\n",
        "\n",
        "# Count the number of days where the total daily precipitation exceeds zero\n",
        "rain_days_count = (daily_precipitation > 0).sum()\n",
        "\n",
        "# Print the result\n",
        "print(f\"Number of days associated with rain in 2022: {rain_days_count}\")"
      ]
    },
    {
      "cell_type": "markdown",
      "metadata": {
        "id": "weaiOZZ92hQw"
      },
      "source": [
        "## Question 2 -- Identifying `interesting' patterns\n",
        "\n",
        "Frawley, et al., define an `interesting` pattern as interesting if it is ``novel, useful, and non-trivial to compute.''  Explore either the weather or citations dataset to identify an interesting pattern.  Describe the pattern and why it is novel, useful, and non-trivial."
      ]
    },
    {
      "cell_type": "markdown",
      "metadata": {
        "id": "D20xwfC3Nzpo"
      },
      "source": [
        "Answer:\n",
        "\n",
        "The weather dataset has numerous records of data with 10 columns. There are precipitation, mist and various other columns of data which might be interrelated with each other in finding interesting patterns in the data. Though there no predefined patterns mentioned , we can logically estimate that the precipitation intensity, temperature measurement and wind speed are interrelated.\n",
        "\n",
        "\n",
        "The attributes such as windspeed, precipitation intensity and mist are correlated with each other. Understanding this pattern has significant implications for weather forecasting. If there are huge cyclonic rains, effectively there might be high windspeeds eventually high mist in the climate. These patterns are novel in nature for weather forecasting and estimating future rainfalls and temperature estimation by the weather forecasting team. These patterns among the attributes can be identified by various analytical steps. These types of pattern analysis is useful in development of predictive modelling of weather forecasting. If mist tends to occur along side intense precipitation, weather prediction models could improve their accuracy by factoring in the relationship, particularly in the cities impact visibility and transport safety.\n",
        "\n",
        "Calculating the relationship among windspeed, mist and precipitation intensity is important. This work could help us better understand weather patterns, improve forecasting, and develop response strategies for weather conditions."
      ]
    },
    {
      "cell_type": "markdown",
      "metadata": {
        "id": "JTKDn4pCRTDx"
      },
      "source": [
        "## Question 3 -- Machine Learning, Safety, and Fairness\n",
        "\n",
        "Choose one of the examples of unfairness in machine learning discussed in class (or choose your own example), and answer the following questions.  \n",
        "\n",
        "a. Mehrabi et al. define fairness in machine learning as \"absence of any prejudice or favoritism toward an individual or group based on their inherent or acquired characteristics\".  Using this definition, how did the application of the machine learning approach result in an unfair outcome?\n",
        "\n",
        "b. What practices, if any, mitigated the impact of the algorithm's unfairness?\n",
        "\n",
        "c. What lessons can be learned from this example?\n"
      ]
    },
    {
      "cell_type": "markdown",
      "metadata": {
        "id": "6-FAKSRENzpp"
      },
      "source": [
        "Answer:\n",
        "\n",
        "a. As per Mehrabi's version of definition, if we consider the amazon's recruitment algorithm, it has been designed to shortlist the top applicants for the technical roles based on the trained model data. The biased data used for training the models included terms associated with women, such as references to Women's chess club or attendance at a women's college. This bias have arised because the algorithm was trained on historical hiring data, which predominantly consisted of male candidates. As a result, the model which was developed learned to associate male-dominated terms and experiences with higher hiring success, leading to unfair discrimination against female applicants.\n",
        "\n",
        "b. The biased hiring methodology which was developed was subsequently abandoned by Amazon before it could be completely implemented due to it's unfairness in decision making. When the bias was discovered during testing, it was decided to stop using the model instead of trying to fix the subsequent problems. This preventive action assisted in preventing gender prejudice in recruiting practices from continuing.\n",
        "\n",
        "c. The lessons that can be learned from this are\n",
        " 1. Importance of unbaised training data\n",
        " 2. Consequences of mitigations,\n",
        " 3. Fair and unfairness in algorithms decisions\n",
        " 4. Being ethical in the decision making\n",
        " 5. Transparency and accountability following ethics\n",
        " 6. Impact of considering historical data in training the models instead of streaming current data.\n",
        "\n",
        " The bias in the Amazon hiring algorithm highlights how crucial it is for AI development to be transparent, diverse, and subject to ongoing scrutiny in order to successfully prevent and eliminate biases. AI systems must take into account ethical issues and carefully assess training data in order to ensure that they advance justice rather than reinforce past injustices."
      ]
    },
    {
      "cell_type": "markdown",
      "metadata": {
        "id": "hGB6V1OiRR3o"
      },
      "source": [
        "\n",
        "## Question 4 - One-hot encoding\n",
        "\n",
        "In the `Citations` dataset, the field `violcode` identifies the type of violation.  For example, a value of 32 indicates a flxed speed camera citation.\n",
        "\n",
        "### Part A\n",
        "\n",
        "What is the level of measurement of the field `violcode` field (e.g., interval, ratio, nominal, or ordinal) and why?  Taking into account its level of measurement, what is its central tendency (average)?\n"
      ]
    },
    {
      "cell_type": "code",
      "execution_count": null,
      "metadata": {
        "id": "KspoW_aZNzpp"
      },
      "outputs": [],
      "source": []
    },
    {
      "cell_type": "markdown",
      "metadata": {
        "id": "RhBeuazyIlWJ"
      },
      "source": [
        "### Part B\n",
        "\n",
        "Repeat the prior item for the field `violfine`."
      ]
    },
    {
      "cell_type": "code",
      "execution_count": null,
      "metadata": {
        "id": "SHirOP41Nzpp"
      },
      "outputs": [],
      "source": []
    },
    {
      "cell_type": "markdown",
      "metadata": {
        "id": "DXH600MuKli1"
      },
      "source": [
        "### Part C\n",
        "\n",
        "Update the citations dataset to apply one-hot encoding to the `violcode` field.  Display the first few encoded records."
      ]
    },
    {
      "cell_type": "code",
      "execution_count": null,
      "metadata": {
        "id": "L8TDoyhVNzpp"
      },
      "outputs": [],
      "source": []
    }
  ],
  "metadata": {
    "colab": {
      "provenance": [],
      "include_colab_link": true
    },
    "kernelspec": {
      "display_name": "Python 3",
      "name": "python3"
    },
    "language_info": {
      "name": "python"
    }
  },
  "nbformat": 4,
  "nbformat_minor": 0
}